{
  "cells": [
    {
      "cell_type": "code",
      "execution_count": 1,
      "id": "6f718198",
      "metadata": {
        "id": "6f718198"
      },
      "outputs": [],
      "source": [
        "import torch\n",
        "import torch.nn as nn\n",
        "import torchvision\n",
        "import torchvision.transforms as transforms"
      ]
    },
    {
      "cell_type": "code",
      "execution_count": 13,
      "id": "e808ae2a",
      "metadata": {
        "id": "e808ae2a"
      },
      "outputs": [],
      "source": [
        "device = torch.device('cuda' if torch.cuda.is_available() else 'cpu')"
      ]
    },
    {
      "cell_type": "code",
      "execution_count": 22,
      "id": "47d907c7",
      "metadata": {
        "id": "47d907c7"
      },
      "outputs": [],
      "source": [
        "# Define Hyper-parametrs\n",
        "input_size = 784 # 28 * 28\n",
        "hidden_size = 400\n",
        "num_clases = 10\n",
        "learning_rate = 0.001\n",
        "num_epochs = 5\n",
        "batch_size = 100\n",
        "num_epochs = 5"
      ]
    },
    {
      "cell_type": "code",
      "execution_count": 4,
      "id": "cda59f13",
      "metadata": {
        "colab": {
          "base_uri": "https://localhost:8080/"
        },
        "id": "cda59f13",
        "outputId": "e6bd456e-79c8-4c75-fdd0-e7e3c24e5dc4"
      },
      "outputs": [
        {
          "output_type": "stream",
          "name": "stdout",
          "text": [
            "Downloading http://yann.lecun.com/exdb/mnist/train-images-idx3-ubyte.gz\n",
            "Failed to download (trying next):\n",
            "HTTP Error 403: Forbidden\n",
            "\n",
            "Downloading https://ossci-datasets.s3.amazonaws.com/mnist/train-images-idx3-ubyte.gz\n",
            "Downloading https://ossci-datasets.s3.amazonaws.com/mnist/train-images-idx3-ubyte.gz to ../../data/MNIST/raw/train-images-idx3-ubyte.gz\n"
          ]
        },
        {
          "output_type": "stream",
          "name": "stderr",
          "text": [
            "100%|██████████| 9.91M/9.91M [00:01<00:00, 5.09MB/s]\n"
          ]
        },
        {
          "output_type": "stream",
          "name": "stdout",
          "text": [
            "Extracting ../../data/MNIST/raw/train-images-idx3-ubyte.gz to ../../data/MNIST/raw\n",
            "\n",
            "Downloading http://yann.lecun.com/exdb/mnist/train-labels-idx1-ubyte.gz\n",
            "Failed to download (trying next):\n",
            "HTTP Error 403: Forbidden\n",
            "\n",
            "Downloading https://ossci-datasets.s3.amazonaws.com/mnist/train-labels-idx1-ubyte.gz\n",
            "Downloading https://ossci-datasets.s3.amazonaws.com/mnist/train-labels-idx1-ubyte.gz to ../../data/MNIST/raw/train-labels-idx1-ubyte.gz\n"
          ]
        },
        {
          "output_type": "stream",
          "name": "stderr",
          "text": [
            "100%|██████████| 28.9k/28.9k [00:00<00:00, 134kB/s]\n"
          ]
        },
        {
          "output_type": "stream",
          "name": "stdout",
          "text": [
            "Extracting ../../data/MNIST/raw/train-labels-idx1-ubyte.gz to ../../data/MNIST/raw\n",
            "\n",
            "Downloading http://yann.lecun.com/exdb/mnist/t10k-images-idx3-ubyte.gz\n",
            "Failed to download (trying next):\n",
            "HTTP Error 403: Forbidden\n",
            "\n",
            "Downloading https://ossci-datasets.s3.amazonaws.com/mnist/t10k-images-idx3-ubyte.gz\n",
            "Downloading https://ossci-datasets.s3.amazonaws.com/mnist/t10k-images-idx3-ubyte.gz to ../../data/MNIST/raw/t10k-images-idx3-ubyte.gz\n"
          ]
        },
        {
          "output_type": "stream",
          "name": "stderr",
          "text": [
            "100%|██████████| 1.65M/1.65M [00:06<00:00, 246kB/s]\n"
          ]
        },
        {
          "output_type": "stream",
          "name": "stdout",
          "text": [
            "Extracting ../../data/MNIST/raw/t10k-images-idx3-ubyte.gz to ../../data/MNIST/raw\n",
            "\n",
            "Downloading http://yann.lecun.com/exdb/mnist/t10k-labels-idx1-ubyte.gz\n",
            "Failed to download (trying next):\n",
            "HTTP Error 403: Forbidden\n",
            "\n",
            "Downloading https://ossci-datasets.s3.amazonaws.com/mnist/t10k-labels-idx1-ubyte.gz\n",
            "Downloading https://ossci-datasets.s3.amazonaws.com/mnist/t10k-labels-idx1-ubyte.gz to ../../data/MNIST/raw/t10k-labels-idx1-ubyte.gz\n"
          ]
        },
        {
          "output_type": "stream",
          "name": "stderr",
          "text": [
            "100%|██████████| 4.54k/4.54k [00:00<00:00, 4.93MB/s]"
          ]
        },
        {
          "output_type": "stream",
          "name": "stdout",
          "text": [
            "Extracting ../../data/MNIST/raw/t10k-labels-idx1-ubyte.gz to ../../data/MNIST/raw\n",
            "\n"
          ]
        },
        {
          "output_type": "stream",
          "name": "stderr",
          "text": [
            "\n"
          ]
        }
      ],
      "source": [
        "train_dataset = torchvision.datasets.MNIST(root='../../data',train=True, transform=transforms.ToTensor(), download=True)"
      ]
    },
    {
      "cell_type": "code",
      "source": [
        "test_dataset = torchvision.datasets.MNIST(root='../../data', train=False,\n",
        "                                          transform=transforms.ToTensor())"
      ],
      "metadata": {
        "id": "sIsoEDJK49v9"
      },
      "id": "sIsoEDJK49v9",
      "execution_count": 6,
      "outputs": []
    },
    {
      "cell_type": "code",
      "execution_count": 23,
      "id": "0dafbc5a",
      "metadata": {
        "id": "0dafbc5a"
      },
      "outputs": [],
      "source": [
        "train_dataloader = torch.utils.data.DataLoader(dataset=train_dataset, batch_size=batch_size, shuffle=True)\n",
        "\n",
        "test_dataloader = torch.utils.data.DataLoader(dataset=test_dataset, batch_size=batch_size, shuffle=False)"
      ]
    },
    {
      "cell_type": "code",
      "source": [
        "class NeuralNetwork(nn.Module):\n",
        "\n",
        "  def __init__(self, input_size, hidden_size, num_clases):\n",
        "\n",
        "    super(NeuralNetwork, self).__init__()\n",
        "\n",
        "    self.fc1 = nn.Linear(input_size, hidden_size)\n",
        "\n",
        "    self.relu = nn.ReLU()\n",
        "\n",
        "    self.fc2 = nn.Linear(hidden_size, num_clases)\n",
        "\n",
        "  def forward(self, x):\n",
        "    out = self.fc1(x)\n",
        "\n",
        "    out = self.relu(out)\n",
        "\n",
        "    out = self.fc2(out)\n",
        "\n",
        "    return out\n",
        "\n",
        "model = NeuralNetwork(input_size=input_size, hidden_size=hidden_size, num_clases=num_clases).to(device)\n"
      ],
      "metadata": {
        "id": "OCDwkOTG59xL"
      },
      "id": "OCDwkOTG59xL",
      "execution_count": 24,
      "outputs": []
    },
    {
      "cell_type": "code",
      "source": [
        "criterion = nn.CrossEntropyLoss()\n",
        "\n",
        "optimizer = torch.optim.Adam(model.parameters(), lr=learning_rate)"
      ],
      "metadata": {
        "id": "oQJkYPwnPMde"
      },
      "id": "oQJkYPwnPMde",
      "execution_count": 25,
      "outputs": []
    },
    {
      "cell_type": "code",
      "source": [
        "total_step = len(train_dataloader)\n",
        "\n",
        "for epochs in range(num_epochs):\n",
        "\n",
        "  for i, (images, labels) in enumerate(train_dataloader):\n",
        "\n",
        "    images = images.reshape(-1, 28 * 28).to(device)\n",
        "\n",
        "    labels = labels.to(device)\n",
        "\n",
        "    outputs = model(images)\n",
        "\n",
        "    loss = criterion(outputs, labels)\n",
        "\n",
        "    optimizer.zero_grad()\n",
        "\n",
        "    loss.backward()\n",
        "\n",
        "    optimizer.step()\n",
        "\n",
        "    if (i + 1) % 100 == 0 :\n",
        "      print(f'Epochs[{epochs + 1} / {num_epochs}]   Batch[{i + 1} / {total_step}]  loss[{loss.item()}]')\n"
      ],
      "metadata": {
        "colab": {
          "base_uri": "https://localhost:8080/"
        },
        "id": "nvm9GiW7P7Rw",
        "outputId": "c1f71c6f-8b77-49ce-acf6-7ab390271ee8"
      },
      "id": "nvm9GiW7P7Rw",
      "execution_count": 28,
      "outputs": [
        {
          "output_type": "stream",
          "name": "stdout",
          "text": [
            "Epochs[1 / 5]   Batch[100 / 600]  loss[0.0044532036408782005]\n",
            "Epochs[1 / 5]   Batch[200 / 600]  loss[0.0018659535562619567]\n",
            "Epochs[1 / 5]   Batch[300 / 600]  loss[0.019226647913455963]\n",
            "Epochs[1 / 5]   Batch[400 / 600]  loss[0.006873032543808222]\n",
            "Epochs[1 / 5]   Batch[500 / 600]  loss[0.011974590830504894]\n",
            "Epochs[1 / 5]   Batch[600 / 600]  loss[0.002114364644512534]\n",
            "Epochs[2 / 5]   Batch[100 / 600]  loss[0.005746101029217243]\n",
            "Epochs[2 / 5]   Batch[200 / 600]  loss[0.00433830451220274]\n",
            "Epochs[2 / 5]   Batch[300 / 600]  loss[0.006490805651992559]\n",
            "Epochs[2 / 5]   Batch[400 / 600]  loss[0.0030799361411482096]\n",
            "Epochs[2 / 5]   Batch[500 / 600]  loss[0.014119110070168972]\n",
            "Epochs[2 / 5]   Batch[600 / 600]  loss[0.00989087950438261]\n",
            "Epochs[3 / 5]   Batch[100 / 600]  loss[0.002411488676443696]\n",
            "Epochs[3 / 5]   Batch[200 / 600]  loss[0.0014720946783199906]\n",
            "Epochs[3 / 5]   Batch[300 / 600]  loss[0.0007799230515956879]\n",
            "Epochs[3 / 5]   Batch[400 / 600]  loss[0.007952742278575897]\n",
            "Epochs[3 / 5]   Batch[500 / 600]  loss[0.003144023474305868]\n",
            "Epochs[3 / 5]   Batch[600 / 600]  loss[0.0029691660311073065]\n",
            "Epochs[4 / 5]   Batch[100 / 600]  loss[0.0016712116776034236]\n",
            "Epochs[4 / 5]   Batch[200 / 600]  loss[0.014867812395095825]\n",
            "Epochs[4 / 5]   Batch[300 / 600]  loss[0.0006737415678799152]\n",
            "Epochs[4 / 5]   Batch[400 / 600]  loss[0.0016518724150955677]\n",
            "Epochs[4 / 5]   Batch[500 / 600]  loss[0.01929844729602337]\n",
            "Epochs[4 / 5]   Batch[600 / 600]  loss[0.0006935253040865064]\n",
            "Epochs[5 / 5]   Batch[100 / 600]  loss[0.0009003826417028904]\n",
            "Epochs[5 / 5]   Batch[200 / 600]  loss[0.006244278512895107]\n",
            "Epochs[5 / 5]   Batch[300 / 600]  loss[0.002881396096199751]\n",
            "Epochs[5 / 5]   Batch[400 / 600]  loss[0.023487305268645287]\n",
            "Epochs[5 / 5]   Batch[500 / 600]  loss[0.010676750913262367]\n",
            "Epochs[5 / 5]   Batch[600 / 600]  loss[0.001667188131250441]\n"
          ]
        }
      ]
    },
    {
      "cell_type": "code",
      "source": [
        "with torch.no_grad():\n",
        "\n",
        "  correct = 0\n",
        "\n",
        "  total = 0\n",
        "\n",
        "  for images, labels in test_dataloader:\n",
        "\n",
        "    images = images.reshape(-1, 28 * 28).to(device)\n",
        "\n",
        "    labels = labels.to(device).to(device)\n",
        "\n",
        "    outputs = model(images)\n",
        "\n",
        "    _, predict = torch.max(outputs, 1)\n",
        "\n",
        "    total += labels.size(0)\n",
        "\n",
        "    correct+= (predict == labels).sum().item()\n",
        "\n",
        "print(f'Accuracy% : {correct / total * 100}')\n",
        "\n",
        "\n"
      ],
      "metadata": {
        "colab": {
          "base_uri": "https://localhost:8080/"
        },
        "id": "-xUS6iPpXT-Z",
        "outputId": "fb9bf136-9861-4fbf-f3c7-a38c40fcb625"
      },
      "id": "-xUS6iPpXT-Z",
      "execution_count": 35,
      "outputs": [
        {
          "output_type": "stream",
          "name": "stdout",
          "text": [
            "Accuracy% : 98.16\n"
          ]
        }
      ]
    },
    {
      "cell_type": "code",
      "source": [],
      "metadata": {
        "id": "f4YXwuYCa1Mw"
      },
      "id": "f4YXwuYCa1Mw",
      "execution_count": null,
      "outputs": []
    }
  ],
  "metadata": {
    "kernelspec": {
      "display_name": "Python 3",
      "name": "python3"
    },
    "language_info": {
      "codemirror_mode": {
        "name": "ipython",
        "version": 3
      },
      "file_extension": ".py",
      "mimetype": "text/x-python",
      "name": "python",
      "nbconvert_exporter": "python",
      "pygments_lexer": "ipython3",
      "version": "3.7.7"
    },
    "colab": {
      "provenance": [],
      "gpuType": "T4"
    },
    "accelerator": "GPU"
  },
  "nbformat": 4,
  "nbformat_minor": 5
}