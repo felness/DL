{
 "cells": [
  {
   "cell_type": "markdown",
   "metadata": {
    "id": "r_a9kwC_ISKE"
   },
   "source": [
    "# Знакомство с PyTorch"
   ]
  },
  {
   "cell_type": "markdown",
   "metadata": {
    "id": "i1hv5i-PkRLO"
   },
   "source": [
    "Сейчас мы познакомимся с библиотекой *PyTorch*. Он очень похож на *NumPy*, и сейчас вы в этом убедитесь!"
   ]
  },
  {
   "cell_type": "markdown",
   "metadata": {
    "id": "A7GbQRcUIkT4"
   },
   "source": [
    "## Вспоминаем *NumPy* и сравниваем операции в *PyTorch*"
   ]
  },
  {
   "cell_type": "markdown",
   "metadata": {
    "id": "9Y0oUAuhkRLX"
   },
   "source": [
    "Мы можем создавать матрицы, перемножать их, складывать, транспонировать и в целом совершать любые матричные операции"
   ]
  },
  {
   "cell_type": "code",
   "execution_count": 1,
   "metadata": {
    "id": "3m6fDtKlkRLZ"
   },
   "outputs": [],
   "source": [
    "import numpy as np\n",
    "import torch\n",
    "import matplotlib.pyplot as plt"
   ]
  },
  {
   "cell_type": "code",
   "execution_count": 2,
   "metadata": {
    "colab": {
     "base_uri": "https://localhost:8080/"
    },
    "id": "nKJ_eIf9kRLc",
    "outputId": "9b63dd17-599d-45e1-b0cb-c6425b55505b"
   },
   "outputs": [
    {
     "data": {
      "text/plain": [
       "array([[0.37454012, 0.95071431, 0.73199394],\n",
       "       [0.59865848, 0.15601864, 0.15599452],\n",
       "       [0.05808361, 0.86617615, 0.60111501],\n",
       "       [0.70807258, 0.02058449, 0.96990985],\n",
       "       [0.83244264, 0.21233911, 0.18182497]])"
      ]
     },
     "execution_count": 2,
     "metadata": {},
     "output_type": "execute_result"
    }
   ],
   "source": [
    "np.random.seed(42)\n",
    "\n",
    "a = np.random.rand(5, 3) # создали случайную матрицу\n",
    "a"
   ]
  },
  {
   "cell_type": "code",
   "execution_count": 3,
   "metadata": {
    "colab": {
     "base_uri": "https://localhost:8080/"
    },
    "id": "m7QzfmpNkRLd",
    "outputId": "ab5b5766-0605-4262-b225-8a7be6f4b517"
   },
   "outputs": [
    {
     "name": "stdout",
     "output_type": "stream",
     "text": [
      "Проверили размеры : (5, 3)\n",
      "\n"
     ]
    }
   ],
   "source": [
    "print(\"Проверили размеры : %s\\n\" % (a.shape,))"
   ]
  },
  {
   "cell_type": "code",
   "execution_count": 4,
   "metadata": {
    "colab": {
     "base_uri": "https://localhost:8080/"
    },
    "id": "iSH48GyMkRLe",
    "outputId": "5b86421a-5cd7-45f8-c376-8d9eda58db83"
   },
   "outputs": [
    {
     "name": "stdout",
     "output_type": "stream",
     "text": [
      "Добавили 5 :\n",
      "[[5.37454012 5.95071431 5.73199394]\n",
      " [5.59865848 5.15601864 5.15599452]\n",
      " [5.05808361 5.86617615 5.60111501]\n",
      " [5.70807258 5.02058449 5.96990985]\n",
      " [5.83244264 5.21233911 5.18182497]]\n",
      "\n"
     ]
    }
   ],
   "source": [
    "print(\"Добавили 5 :\\n%s\\n\" % (a + 5))"
   ]
  },
  {
   "cell_type": "markdown",
   "metadata": {
    "id": "5PQpPyl-eNWC"
   },
   "source": [
    "## Задание 1"
   ]
  },
  {
   "cell_type": "markdown",
   "metadata": {
    "id": "Q-Xs6jUiJUqc"
   },
   "source": [
    "Умножьте матрицу `а` на транспонированную матрицу `а`.  \n",
    "\n",
    "Чему равен самый первый элемент результата?  \n",
    "Ответ округлите до сотых."
   ]
  },
  {
   "cell_type": "code",
   "execution_count": 10,
   "metadata": {
    "id": "3PH52x_pkRLf"
   },
   "outputs": [
    {
     "name": "stdout",
     "output_type": "stream",
     "text": [
      "0.95\n",
      "[[0.37454012 0.95071431 0.73199394]\n",
      " [0.59865848 0.15601864 0.15599452]\n",
      " [0.05808361 0.86617615 0.60111501]\n",
      " [0.70807258 0.02058449 0.96990985]\n",
      " [0.83244264 0.21233911 0.18182497]]\n"
     ]
    }
   ],
   "source": [
    "ans = a @ a.T\n",
    "\n",
    "print(round(a[0][1], 2))\n",
    "print(a)"
   ]
  },
  {
   "cell_type": "code",
   "execution_count": null,
   "metadata": {
    "colab": {
     "base_uri": "https://localhost:8080/"
    },
    "id": "NdmpOlEZkRLg",
    "outputId": "5702e77a-5bc4-4e95-e73c-ebba8a7068ea"
   },
   "outputs": [
    {
     "name": "stdout",
     "output_type": "stream",
     "text": [
      "Среднее по колонкам :\n",
      "[0.68574946 0.30355721 0.50845826 0.56618897 0.40886891]\n",
      "\n"
     ]
    }
   ],
   "source": [
    "print(\"Среднее по колонкам :\\n%s\\n\" % (a.mean(axis=-1)))"
   ]
  },
  {
   "cell_type": "code",
   "execution_count": null,
   "metadata": {
    "colab": {
     "base_uri": "https://localhost:8080/"
    },
    "id": "4jbmtVfLkRLh",
    "outputId": "6664b308-4f2b-4ba6-f7e5-fcc6b91a385d"
   },
   "outputs": [
    {
     "name": "stdout",
     "output_type": "stream",
     "text": [
      "Изменили размеры :\n",
      "(3, 5)\n",
      "\n"
     ]
    }
   ],
   "source": [
    "print(\"Изменили размеры :\\n%s\\n\" % (a.reshape(3, 5).shape,))"
   ]
  },
  {
   "cell_type": "markdown",
   "metadata": {
    "id": "gOccPs9wkRLi"
   },
   "source": [
    "## Задание 2\n",
    "\n",
    "При помощи *NumPy* посчитайте сумму квадратов натуральных чисел от 1 до 10000."
   ]
  },
  {
   "cell_type": "code",
   "execution_count": null,
   "metadata": {
    "id": "AXxc0OADkRLi"
   },
   "outputs": [],
   "source": [
    "# ваш код здесь\n",
    "..."
   ]
  },
  {
   "cell_type": "markdown",
   "metadata": {
    "id": "e0k_uiiokRLj"
   },
   "source": [
    "Аналогичные операции в *PyTorch* выглядят следующим образом, синтаксис отличается, но совсем немного:"
   ]
  },
  {
   "cell_type": "code",
   "execution_count": null,
   "metadata": {
    "colab": {
     "base_uri": "https://localhost:8080/"
    },
    "id": "PWv2AHRykRLk",
    "outputId": "1b4b4acd-982d-4ae4-c3fc-36380f1f067e"
   },
   "outputs": [
    {
     "data": {
      "text/plain": [
       "tensor([[0.2400, 0.0441, 0.7718],\n",
       "        [0.1018, 0.1668, 0.6947],\n",
       "        [0.3390, 0.8580, 0.6660],\n",
       "        [0.4583, 0.0354, 0.2437],\n",
       "        [0.0213, 0.2555, 0.9582]])"
      ]
     },
     "execution_count": 8,
     "metadata": {},
     "output_type": "execute_result"
    }
   ],
   "source": [
    "x = torch.rand(5, 3)\n",
    "x"
   ]
  },
  {
   "cell_type": "code",
   "execution_count": null,
   "metadata": {
    "colab": {
     "base_uri": "https://localhost:8080/"
    },
    "id": "fjNGDbtPkRLk",
    "outputId": "f57aff65-ce04-4ea0-901c-75b94ee9e330"
   },
   "outputs": [
    {
     "name": "stdout",
     "output_type": "stream",
     "text": [
      "Проверили размеры : torch.Size([5, 3])\n",
      "\n"
     ]
    }
   ],
   "source": [
    "print(\"Проверили размеры : %s\\n\" % (x.shape,))"
   ]
  },
  {
   "cell_type": "code",
   "execution_count": null,
   "metadata": {
    "colab": {
     "base_uri": "https://localhost:8080/"
    },
    "id": "DALGo7QHkRLl",
    "outputId": "33507156-89a6-4f40-857d-590e577f7e67"
   },
   "outputs": [
    {
     "name": "stdout",
     "output_type": "stream",
     "text": [
      "Добавили 5 :\n",
      "tensor([[5.2400, 5.0441, 5.7718],\n",
      "        [5.1018, 5.1668, 5.6947],\n",
      "        [5.3390, 5.8580, 5.6660],\n",
      "        [5.4583, 5.0354, 5.2437],\n",
      "        [5.0213, 5.2555, 5.9582]])\n",
      "\n"
     ]
    }
   ],
   "source": [
    "print(\"Добавили 5 :\\n%s\\n\" % (x + 5))"
   ]
  },
  {
   "cell_type": "code",
   "execution_count": null,
   "metadata": {
    "colab": {
     "base_uri": "https://localhost:8080/"
    },
    "id": "gm7QOaAQkRLm",
    "outputId": "39216229-bef8-418a-ff09-bca921eb94a6"
   },
   "outputs": [
    {
     "name": "stdout",
     "output_type": "stream",
     "text": [
      "X*X^T  (1):\n",
      "tensor([[0.6552, 0.5680, 0.6332, 0.2996, 0.7559],\n",
      "        [0.5680, 0.5208, 0.6403, 0.2219, 0.7105],\n",
      "        [0.6332, 0.6403, 1.2946, 0.3480, 0.8646],\n",
      "        [0.2996, 0.2219, 0.3480, 0.2706, 0.2523],\n",
      "        [0.7559, 0.7105, 0.8646, 0.2523, 0.9839]])\n",
      "\n",
      "X*X^T  (2):\n",
      "tensor([[0.6552, 0.5680, 0.6332, 0.2996, 0.7559],\n",
      "        [0.5680, 0.5208, 0.6403, 0.2219, 0.7105],\n",
      "        [0.6332, 0.6403, 1.2946, 0.3480, 0.8646],\n",
      "        [0.2996, 0.2219, 0.3480, 0.2706, 0.2523],\n",
      "        [0.7559, 0.7105, 0.8646, 0.2523, 0.9839]])\n",
      "\n"
     ]
    }
   ],
   "source": [
    "print(\"X*X^T  (1):\\n%s\\n\" % (torch.matmul(x, x.transpose(1, 0))))\n",
    "print(\"X*X^T  (2):\\n%s\\n\" % (x.mm(x.t())))"
   ]
  },
  {
   "cell_type": "code",
   "execution_count": null,
   "metadata": {
    "colab": {
     "base_uri": "https://localhost:8080/"
    },
    "id": "9MlA4NnokRLm",
    "outputId": "90c39e09-9991-4fed-91a8-45b08767b14c"
   },
   "outputs": [
    {
     "name": "stdout",
     "output_type": "stream",
     "text": [
      "Среднее по колонкам :\n",
      "tensor([0.3520, 0.3211, 0.6210, 0.2458, 0.4117])\n",
      "\n"
     ]
    }
   ],
   "source": [
    "print(\"Среднее по колонкам :\\n%s\\n\" % (x.mean(dim=-1)))"
   ]
  },
  {
   "cell_type": "code",
   "execution_count": null,
   "metadata": {
    "colab": {
     "base_uri": "https://localhost:8080/"
    },
    "id": "1wqQTDpOkRLn",
    "outputId": "62ac6c25-c256-4e5f-87bd-e5d78ae767cc"
   },
   "outputs": [
    {
     "name": "stdout",
     "output_type": "stream",
     "text": [
      "Изменили размеры :\n",
      "torch.Size([3, 5])\n",
      "\n",
      "Изменили размеры :\n",
      "torch.Size([3, 5])\n",
      "\n"
     ]
    }
   ],
   "source": [
    "print(\"Изменили размеры :\\n%s\\n\" % (x.view([3, 5]).shape,))\n",
    "print(\"Изменили размеры :\\n%s\\n\" % (x.view_as(x.t()).shape,))"
   ]
  },
  {
   "cell_type": "markdown",
   "metadata": {
    "id": "EtnLnIxPkRLn"
   },
   "source": [
    "Небольшой пример того, как меняются операции:\n",
    "\n",
    "* `x.reshape([1,2,8]) -> x.view(1,2,8)`\n",
    "\n",
    "* `x.sum(axis=-1) -> x.sum(dim=-1)`\n",
    "\n",
    "* `x.astype('int64') -> x.type(torch.LongTensor)`\n",
    "\n",
    "Для помощи вам есть [таблица](https://github.com/torch/torch7/wiki/Torch-for-Numpy-users), которая поможет вам найти аналог операции в *NumPy*.\n"
   ]
  },
  {
   "cell_type": "markdown",
   "metadata": {
    "id": "V-QMteahkRLo"
   },
   "source": [
    "При помощи *PyTorch* посчитаем сумму квадратов натуральных чисел от 1 до 10000."
   ]
  },
  {
   "cell_type": "code",
   "execution_count": null,
   "metadata": {
    "colab": {
     "base_uri": "https://localhost:8080/"
    },
    "id": "rHzmts5AkRLo",
    "outputId": "60403aef-6510-406e-e212-4cb838804d6b"
   },
   "outputs": [
    {
     "name": "stderr",
     "output_type": "stream",
     "text": [
      "<ipython-input-14-b9d129fd8adb>:1: UserWarning: torch.range is deprecated and will be removed in a future release because its behavior is inconsistent with Python's range builtin. Instead, use torch.arange, which produces values in [start, end).\n",
      "  torch.sum(torch.range(1, 10000) ** 2)\n"
     ]
    },
    {
     "data": {
      "text/plain": [
       "tensor(3.3338e+11)"
      ]
     },
     "execution_count": 14,
     "metadata": {},
     "output_type": "execute_result"
    }
   ],
   "source": [
    "torch.sum(torch.range(1, 10000) ** 2)"
   ]
  },
  {
   "cell_type": "markdown",
   "metadata": {
    "id": "-ebxkKPikRLp"
   },
   "source": [
    "Создаем тензоры в *PyTorch* и снова изучаем базовые операции"
   ]
  },
  {
   "cell_type": "code",
   "execution_count": null,
   "metadata": {
    "colab": {
     "base_uri": "https://localhost:8080/"
    },
    "id": "lnxk_oJZkRLq",
    "outputId": "eb6710a8-3414-4095-b50d-153ebbb6d62a"
   },
   "outputs": [
    {
     "name": "stdout",
     "output_type": "stream",
     "text": [
      "tensor([[ 5.6767e+10,  3.1742e-41,  5.4992e+09],\n",
      "        [ 3.1742e-41, -2.3862e-25,  4.5448e-41],\n",
      "        [ 0.0000e+00,  0.0000e+00,  0.0000e+00],\n",
      "        [ 0.0000e+00,  0.0000e+00,  0.0000e+00],\n",
      "        [ 0.0000e+00,  0.0000e+00,  0.0000e+00]])\n"
     ]
    }
   ],
   "source": [
    "x = torch.empty(5, 3) # пустой тензор\n",
    "print(x)"
   ]
  },
  {
   "cell_type": "code",
   "execution_count": null,
   "metadata": {
    "colab": {
     "base_uri": "https://localhost:8080/"
    },
    "id": "fKAtmLU1kRLr",
    "outputId": "74fc30dc-be6d-4d77-aa3d-7039e18eef8c"
   },
   "outputs": [
    {
     "name": "stdout",
     "output_type": "stream",
     "text": [
      "tensor([[0.3190, 0.8694, 0.9860],\n",
      "        [0.7349, 0.9223, 0.6015],\n",
      "        [0.5761, 0.0790, 0.7863],\n",
      "        [0.2975, 0.6295, 0.0814],\n",
      "        [0.3029, 0.8073, 0.5870]])\n"
     ]
    }
   ],
   "source": [
    "x = torch.rand(5, 3) # тензор со случайными числами\n",
    "print(x)"
   ]
  },
  {
   "cell_type": "code",
   "execution_count": null,
   "metadata": {
    "colab": {
     "base_uri": "https://localhost:8080/"
    },
    "id": "xSMg9XO5kRLr",
    "outputId": "ea3ed7b3-5813-4589-fdc9-b47267407a38"
   },
   "outputs": [
    {
     "name": "stdout",
     "output_type": "stream",
     "text": [
      "tensor([[0, 0, 0],\n",
      "        [0, 0, 0],\n",
      "        [0, 0, 0],\n",
      "        [0, 0, 0],\n",
      "        [0, 0, 0]])\n"
     ]
    }
   ],
   "source": [
    "x = torch.zeros(5, 3, dtype=torch.long) # тензор с нулями и указанием типов чисел\n",
    "print(x)"
   ]
  },
  {
   "cell_type": "code",
   "execution_count": null,
   "metadata": {
    "colab": {
     "base_uri": "https://localhost:8080/"
    },
    "id": "FQlyXpO1kRLs",
    "outputId": "2882e08c-702f-4162-ff89-7ef74d5c300e"
   },
   "outputs": [
    {
     "name": "stdout",
     "output_type": "stream",
     "text": [
      "tensor([5.5000, 3.0000])\n"
     ]
    }
   ],
   "source": [
    "x = torch.tensor([5.5, 3]) # конструируем тензор из питоновского листа\n",
    "print(x)"
   ]
  },
  {
   "cell_type": "code",
   "execution_count": null,
   "metadata": {
    "colab": {
     "base_uri": "https://localhost:8080/"
    },
    "id": "9upBvFU3kRLs",
    "outputId": "7fedfba9-9404-4e85-ddb6-9dcf97067633"
   },
   "outputs": [
    {
     "name": "stdout",
     "output_type": "stream",
     "text": [
      "tensor([[1., 1., 1.],\n",
      "        [1., 1., 1.],\n",
      "        [1., 1., 1.],\n",
      "        [1., 1., 1.],\n",
      "        [1., 1., 1.]], dtype=torch.float64) torch.Size([5, 3])\n"
     ]
    }
   ],
   "source": [
    "x = x.new_ones(5, 3, dtype=torch.double) # используем уже созданный тензор для создания тензора из единичек\n",
    "print(x, x.size())"
   ]
  },
  {
   "cell_type": "code",
   "execution_count": null,
   "metadata": {
    "colab": {
     "base_uri": "https://localhost:8080/"
    },
    "id": "_u-h30lYkRLt",
    "outputId": "0f77dabc-3c41-45af-8bc9-470cfe71993a"
   },
   "outputs": [
    {
     "name": "stdout",
     "output_type": "stream",
     "text": [
      "tensor([[ 0.3286, -0.7028, -1.0239],\n",
      "        [-3.2129, -0.3765, -0.8188],\n",
      "        [-0.7487,  1.7554, -0.3971],\n",
      "        [-0.5781,  0.8157,  0.5225],\n",
      "        [ 1.3523,  0.1054,  0.6236]]) torch.Size([5, 3])\n"
     ]
    }
   ],
   "source": [
    "x = torch.randn_like(x, dtype=torch.float) # создаем матрицу с размерами как у x\n",
    "print(x, x.size())"
   ]
  },
  {
   "cell_type": "markdown",
   "metadata": {
    "id": "nct86OE6Lzdt"
   },
   "source": [
    "## Задание 3"
   ]
  },
  {
   "cell_type": "markdown",
   "metadata": {
    "id": "VdZOcgoafJdK"
   },
   "source": [
    "Сгенерируйте два тензора: `x` и `y` размера 5 на 3 со случайными числами.\n",
    "Вычислите сумму тензоров `x` и `y`.\n",
    "\n",
    "В ответе напишите значение первой координаты в полученной суммы, округленной до сотых."
   ]
  },
  {
   "cell_type": "code",
   "execution_count": null,
   "metadata": {
    "id": "f-zCf-MhkRLt"
   },
   "outputs": [],
   "source": [
    "torch.manual_seed(42)\n",
    "\n",
    "# ваш код здесь\n",
    "..."
   ]
  },
  {
   "cell_type": "code",
   "execution_count": null,
   "metadata": {
    "id": "fwOv0PQykRLw"
   },
   "outputs": [],
   "source": [
    "print(x * y) # поэлементное умножение"
   ]
  },
  {
   "cell_type": "markdown",
   "metadata": {
    "id": "95pa8_HnL7r0"
   },
   "source": [
    "## Задание 4"
   ]
  },
  {
   "cell_type": "markdown",
   "metadata": {
    "id": "lmF9KzEtgGOa"
   },
   "source": [
    "Умножьте матрицу `x` на транспонированную матрицу `y`.\n",
    "\n",
    "В ответ напишите последний элемент (правый нижний) полученной матрицы.  \n",
    "Ответ округлите до сотых."
   ]
  },
  {
   "cell_type": "code",
   "execution_count": null,
   "metadata": {
    "id": "8CeulY3jkRLx"
   },
   "outputs": [],
   "source": [
    "# your code here"
   ]
  },
  {
   "cell_type": "code",
   "execution_count": null,
   "metadata": {
    "colab": {
     "base_uri": "https://localhost:8080/"
    },
    "id": "JfIqJz8EkRLy",
    "outputId": "47f940f1-46d2-46fd-bd6e-4541f65d79d1"
   },
   "outputs": [
    {
     "name": "stdout",
     "output_type": "stream",
     "text": [
      "torch.Size([1, 5, 3])\n"
     ]
    }
   ],
   "source": [
    "print(x.unsqueeze(0).shape) # добавили измерение в начало, аналог броадкастинга"
   ]
  },
  {
   "cell_type": "code",
   "execution_count": null,
   "metadata": {
    "colab": {
     "base_uri": "https://localhost:8080/"
    },
    "id": "WlGFxytDkRLz",
    "outputId": "5dafb85e-16ee-4d9f-8803-79750e8a7435"
   },
   "outputs": [
    {
     "name": "stdout",
     "output_type": "stream",
     "text": [
      "torch.Size([5, 3])\n"
     ]
    }
   ],
   "source": [
    "print(x.unsqueeze(0).squeeze(0).shape) # убрали измерение в начале, аналог броадкастинга"
   ]
  },
  {
   "cell_type": "code",
   "execution_count": null,
   "metadata": {
    "colab": {
     "base_uri": "https://localhost:8080/"
    },
    "id": "CDlNQv5hNb8S",
    "outputId": "333707ef-335c-471c-af4b-9a8c217693aa"
   },
   "outputs": [
    {
     "data": {
      "text/plain": [
       "tensor([[0.8823, 0.9150, 0.3829]])"
      ]
     },
     "execution_count": 27,
     "metadata": {},
     "output_type": "execute_result"
    }
   ],
   "source": [
    "a = torch.rand((1,3))\n",
    "a"
   ]
  },
  {
   "cell_type": "code",
   "execution_count": null,
   "metadata": {
    "colab": {
     "base_uri": "https://localhost:8080/"
    },
    "id": "qzPXu8k4Nb_X",
    "outputId": "276fc68a-c6ff-4e57-c9dc-a9241c89cf24"
   },
   "outputs": [
    {
     "data": {
      "text/plain": [
       "tensor([0.8823, 0.9150, 0.3829])"
      ]
     },
     "execution_count": 28,
     "metadata": {},
     "output_type": "execute_result"
    }
   ],
   "source": [
    "a.squeeze(0)"
   ]
  },
  {
   "cell_type": "markdown",
   "metadata": {
    "id": "hVtkNSS8kRLz"
   },
   "source": [
    "Мы также можем делать обычные срезы и переводить матрицы назад в *NumPy*:"
   ]
  },
  {
   "cell_type": "code",
   "execution_count": null,
   "metadata": {
    "colab": {
     "base_uri": "https://localhost:8080/"
    },
    "id": "6Jv3jZimkRLz",
    "outputId": "769ab5b4-2e1e-4284-fe1f-39113344792a"
   },
   "outputs": [
    {
     "name": "stdout",
     "output_type": "stream",
     "text": [
      "True\n",
      "True\n"
     ]
    }
   ],
   "source": [
    "a = np.ones((3, 5))\n",
    "x = torch.ones((3, 5))\n",
    "print(np.allclose(x.numpy(), a))\n",
    "print(np.allclose(x.numpy()[:, 1], a[:, 1]))"
   ]
  },
  {
   "cell_type": "code",
   "execution_count": null,
   "metadata": {
    "colab": {
     "base_uri": "https://localhost:8080/"
    },
    "id": "5jCXz5cakiw5",
    "outputId": "369f255a-5144-476d-fe2a-09a527c704ef"
   },
   "outputs": [
    {
     "data": {
      "text/plain": [
       "((4,), (4, 1))"
      ]
     },
     "execution_count": 34,
     "metadata": {},
     "output_type": "execute_result"
    }
   ],
   "source": [
    "a = np.array([1,2,3,4])\n",
    "b = np.array([[5],[6],[7],[8]])\n",
    "\n",
    "a.shape, b.shape"
   ]
  },
  {
   "cell_type": "code",
   "execution_count": null,
   "metadata": {
    "colab": {
     "base_uri": "https://localhost:8080/"
    },
    "id": "KtEUqtkZkp6-",
    "outputId": "c3fbc569-dfc0-4bd1-cd89-b235f1dcc66f"
   },
   "outputs": [
    {
     "data": {
      "text/plain": [
       "array([70])"
      ]
     },
     "execution_count": 32,
     "metadata": {},
     "output_type": "execute_result"
    }
   ],
   "source": [
    "a @ b"
   ]
  },
  {
   "cell_type": "code",
   "execution_count": null,
   "metadata": {
    "id": "rYIcV16ukw3_"
   },
   "outputs": [],
   "source": [
    "# b @ a"
   ]
  }
 ],
 "metadata": {
  "accelerator": "GPU",
  "colab": {
   "provenance": []
  },
  "gpuClass": "standard",
  "kernelspec": {
   "display_name": "Python 3 (ipykernel)",
   "language": "python",
   "name": "python3"
  },
  "language_info": {
   "codemirror_mode": {
    "name": "ipython",
    "version": 3
   },
   "file_extension": ".py",
   "mimetype": "text/x-python",
   "name": "python",
   "nbconvert_exporter": "python",
   "pygments_lexer": "ipython3",
   "version": "3.7.7"
  }
 },
 "nbformat": 4,
 "nbformat_minor": 1
}
